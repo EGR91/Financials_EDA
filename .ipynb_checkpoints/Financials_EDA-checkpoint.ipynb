{
 "cells": [
  {
   "cell_type": "code",
   "execution_count": 2,
   "metadata": {
    "id": "KN6O5jcouGHW"
   },
   "outputs": [],
   "source": [
    "import pandas as pd\n",
    "\n",
    "import matplotlib.pyplot as plt\n",
    "import seaborn as sns\n"
   ]
  },
  {
   "cell_type": "code",
   "execution_count": 5,
   "metadata": {
    "id": "Pk5Xj5bPuMn-"
   },
   "outputs": [],
   "source": [
    "df = pd.read_csv('Financials.csv')"
   ]
  },
  {
   "cell_type": "code",
   "execution_count": null,
   "metadata": {
    "id": "MdjbxJgW7slo"
   },
   "outputs": [],
   "source": [
    "df.shape"
   ]
  },
  {
   "cell_type": "code",
   "execution_count": null,
   "metadata": {
    "id": "E0K9L7lUuP_r"
   },
   "outputs": [],
   "source": [
    "df.head(1)"
   ]
  },
  {
   "cell_type": "markdown",
   "metadata": {},
   "source": [
    "Приведем названия колонок в удобный вид."
   ]
  },
  {
   "cell_type": "code",
   "execution_count": null,
   "metadata": {
    "id": "cutvc2Hlub4w"
   },
   "outputs": [],
   "source": [
    "df.columns = df.columns.str.strip().str.lower().str.replace(' ', '_')"
   ]
  },
  {
   "cell_type": "markdown",
   "metadata": {},
   "source": [
    "Проверим на наличие пропусков и дубликатов"
   ]
  },
  {
   "cell_type": "code",
   "execution_count": null,
   "metadata": {
    "id": "8gQ_q3kzu05B"
   },
   "outputs": [],
   "source": [
    "print(df.isna().any())\n",
    "print(df.)"
   ]
  },
  {
   "cell_type": "code",
   "execution_count": null,
   "metadata": {
    "id": "vYyYGg6Wvold"
   },
   "outputs": [],
   "source": [
    "df.nunique()"
   ]
  },
  {
   "cell_type": "code",
   "execution_count": null,
   "metadata": {
    "id": "Z6jdzRNcxni0"
   },
   "outputs": [],
   "source": [
    "df.head(1)"
   ]
  },
  {
   "cell_type": "code",
   "execution_count": null,
   "metadata": {
    "id": "q4pWQJhVz_fj"
   },
   "outputs": [],
   "source": [
    "df.columns.to_list()"
   ]
  },
  {
   "cell_type": "markdown",
   "metadata": {
    "id": "VgyHrzUUpzZ7"
   },
   "source": [
    "Очищаем данные от ненужных символов и приводим данные к нужным форматам."
   ]
  },
  {
   "cell_type": "code",
   "execution_count": null,
   "metadata": {
    "id": "xHpX5ygDz5hQ"
   },
   "outputs": [],
   "source": [
    "columns_to_clean = ['units_sold',\n",
    "                    'manufacturing_price',\n",
    "                    'sale_price',\n",
    "                    'gross_sales',\n",
    "                    'discounts',\n",
    "                    'sales',\n",
    "                    'cogs',\n",
    "                    'profit']\n",
    "\n",
    "df[columns_to_clean] = df[columns_to_clean].apply(lambda x: x.str.replace('[$,)(]', '', regex=True).str.strip().str.replace('-', '0'))"
   ]
  },
  {
   "cell_type": "code",
   "execution_count": null,
   "metadata": {
    "id": "tG5lbgqI3Wjp"
   },
   "outputs": [],
   "source": [
    "df[columns_to_clean] = df[columns_to_clean].astype(float)\n",
    "df['date'] = pd.to_datetime(df['date'], dayfirst=True)\n",
    "df['year_month'] = df.date.dt.strftime('%Y-%m')\n",
    "df.head(5)"
   ]
  },
  {
   "cell_type": "markdown",
   "metadata": {
    "id": "5e9I3DAq7Fiu"
   },
   "source": [
    "Используем метод `applymap` чтобы избавиться от лишних пробелов по всему датафрейму."
   ]
  },
  {
   "cell_type": "code",
   "execution_count": null,
   "metadata": {
    "id": "CXvSbBQH5UBz"
   },
   "outputs": [],
   "source": [
    "df = df.applymap(lambda x: x.strip() if isinstance(x, str) else x)"
   ]
  },
  {
   "cell_type": "code",
   "execution_count": null,
   "metadata": {
    "id": "gWp80GbZ8lpQ"
   },
   "outputs": [],
   "source": [
    "df.head()"
   ]
  },
  {
   "cell_type": "code",
   "execution_count": null,
   "metadata": {
    "id": "cw4ApxL3kmDn"
   },
   "outputs": [],
   "source": [
    "product_sold_by_country = df.groupby(['country', 'product'], as_index=False).units_sold.sum()"
   ]
  },
  {
   "cell_type": "code",
   "execution_count": null,
   "metadata": {
    "id": "TvHp5CUk9jjX"
   },
   "outputs": [],
   "source": [
    "sns.barplot(x = 'product', y = 'units_sold', data = product_sold_by_country, errorbar=None, hue='country')"
   ]
  },
  {
   "cell_type": "code",
   "execution_count": null,
   "metadata": {
    "id": "9I-Ml5Dn_sYe"
   },
   "outputs": [],
   "source": [
    "segment_representation = df.segment.value_counts()\n",
    "plt.pie(segment_representation.values, labels = segment_representation.index, autopct='%1.1f%%')\n",
    "plt.show()"
   ]
  },
  {
   "cell_type": "code",
   "execution_count": null,
   "metadata": {
    "id": "d3h2SxuqapBD"
   },
   "outputs": [],
   "source": [
    "sales_df = df.groupby(['date', 'country'], as_index=False).sales.sum()\n",
    "\n",
    "sns.lineplot(x='date', y='sales', data = sales_df, hue = 'country')\n",
    "plt.xticks(rotation=45)\n",
    "plt.show()"
   ]
  },
  {
   "cell_type": "code",
   "execution_count": null,
   "metadata": {
    "id": "ulHc--EVrz-8"
   },
   "outputs": [],
   "source": [
    "df.groupby('segment').sales.mean()"
   ]
  },
  {
   "cell_type": "code",
   "execution_count": null,
   "metadata": {
    "id": "dS34s5tkr1h-"
   },
   "outputs": [],
   "source": [
    "df.groupby('segment').profit.mean()"
   ]
  },
  {
   "cell_type": "code",
   "execution_count": null,
   "metadata": {
    "id": "OecDgk9_qK6D"
   },
   "outputs": [],
   "source": [
    "fig,axes = plt.subplots(1,2, figsize=(15, 5))\n",
    "\n",
    "sns.barplot(df.groupby('segment').sales.mean(), ax=axes[0], color='lightgreen')\n",
    "sns.barplot(df.groupby('segment').profit.mean(), ax=axes[1], color='skyblue')"
   ]
  },
  {
   "cell_type": "code",
   "execution_count": null,
   "metadata": {
    "id": "1eracynGs-y_"
   },
   "outputs": [],
   "source": [
    "df.to_csv('financials_clean.csv', index=False)"
   ]
  }
 ],
 "metadata": {
  "colab": {
   "provenance": []
  },
  "kernelspec": {
   "display_name": "Python 3 (ipykernel)",
   "language": "python",
   "name": "python3"
  },
  "language_info": {
   "codemirror_mode": {
    "name": "ipython",
    "version": 3
   },
   "file_extension": ".py",
   "mimetype": "text/x-python",
   "name": "python",
   "nbconvert_exporter": "python",
   "pygments_lexer": "ipython3",
   "version": "3.10.9"
  }
 },
 "nbformat": 4,
 "nbformat_minor": 1
}
